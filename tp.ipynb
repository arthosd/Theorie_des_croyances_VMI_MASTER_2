{
 "cells": [
  {
   "cell_type": "markdown",
   "metadata": {},
   "source": [
    "# TP Théorie des croyances\n",
    "Ce notebook explique ce que représente la théorie des croyances. Il se base sur le TP vu en cours pour expliciter les explications.\n",
    "\n",
    "## Plan\n",
    "1. Explication théorie des languages\n",
    "2. TP - Théorie des croyances"
   ]
  },
  {
   "cell_type": "markdown",
   "metadata": {},
   "source": [
    "## 1. La théorie des croyances\n",
    "### Definition\n",
    "La théorie des croyances est une théorie qui a pour principale objectif d'inferer un résultat en combinant des informations provenant de divers sources disparates.\n",
    "Elle est souvent confondue avec les \"probabiltés\" qui sont la pour pondérer la justification d'un événement.   \n",
    "\n",
    "En d'autres termes, les probabiltés répondent à la question suivante : ***Quelles sont les chances que le cheval A gagne la course ?*** tandis que la théorie des croyances répond à la question : ***Selon moi, à combien j'estime les chances du cheval A de gagner la course ?***\n",
    "\n",
    "### Vocabulaire\n",
    "- ***Univers*** : Ensemble d'évenement ou d'individu qui constitue une zone d'étude, par exemple, l'ensemble de chevaux d'une course   \n",
    "- ***Masse*** : Représente la croyance ***exacte*** dans un ensemble d'evenement donné.\n",
    "- ***Element focal*** : Toute partie non vide d'un Unives (U) tels que la masse de cette partie n'est pas nulle.\n",
    "- ***Fonction de croyance*** : Représente la sommes des masses de croyances qui entrainenent un element focal spécifique dans l'univers\n",
    "\n"
   ]
  },
  {
   "cell_type": "markdown",
   "metadata": {},
   "source": [
    "## 2. TP - Théorie des croyances"
   ]
  },
  {
   "cell_type": "markdown",
   "metadata": {},
   "source": [
    "Nous avons développé la classe Croyance (Que vous trouverez dans ce notebook) qui regroupe toutes les fonctions de la théorie des croyances"
   ]
  },
  {
   "cell_type": "code",
   "execution_count": 1,
   "metadata": {},
   "outputs": [],
   "source": [
    "from Croyance import Croyance # Import de la classe croyance"
   ]
  },
  {
   "cell_type": "markdown",
   "metadata": {},
   "source": [
    "Noter que vous pouvez a tout moment changer les valeurs des variables afin de jouer avec la classe"
   ]
  },
  {
   "cell_type": "code",
   "execution_count": 2,
   "metadata": {},
   "outputs": [],
   "source": [
    "nombre_inspecteur = 2 # Nombre d'inspecteurs (ou d'avis)\n",
    "univers = [\"vide\",\"P\",\"J\",\"M\",\"PJ\",\"PM\",\"JM\",\"PJM\"] # Evenement qui constitue l'Univers"
   ]
  },
  {
   "cell_type": "code",
   "execution_count": 3,
   "metadata": {},
   "outputs": [],
   "source": [
    "croyance = Croyance(nombre_inspecteur, univers)"
   ]
  },
  {
   "cell_type": "code",
   "execution_count": 4,
   "metadata": {},
   "outputs": [
    {
     "name": "stdout",
     "output_type": "stream",
     "text": [
      "vide\n",
      "P\n",
      "J\n",
      "M\n",
      "PJ\n",
      "PM\n",
      "JM\n",
      "PJM\n"
     ]
    }
   ],
   "source": [
    "# On affiche les evenements :\n",
    "croyance.list_evenement()"
   ]
  },
  {
   "cell_type": "markdown",
   "metadata": {},
   "source": [
    "Pour aller plus vide nous allons initialiser des masses. Cepandant, la classe croyance possede une fonction nommée ***set_masses*** qui permet de designer un evenement et de lui assigner une masse."
   ]
  },
  {
   "cell_type": "code",
   "execution_count": 5,
   "metadata": {},
   "outputs": [],
   "source": [
    "# On indique les masses de l'inspecteur 1\n",
    "croyance.set_masses(0,'PJ',0.5)\n",
    "croyance.set_masses(0,'JM',0.2)\n",
    "croyance.set_masses(0,'PJM',0.3)\n",
    "\n",
    "# On indique les masses de l'inspecteur 2\n",
    "croyance.set_masses(1,'P',0.6)\n",
    "croyance.set_masses(1,'PJM',0.4)"
   ]
  },
  {
   "cell_type": "markdown",
   "metadata": {},
   "source": [
    "La classe croyance permet de calculer la fonction de croyance et celle de plausabilité à l'aide des fonction ***croyance*** et ***plausabilite*** de la classe Croyance"
   ]
  },
  {
   "cell_type": "code",
   "execution_count": 6,
   "metadata": {},
   "outputs": [],
   "source": [
    "# Calcul de la fonction de croyance pour chaque evenement\n",
    "croyance.croyance()"
   ]
  },
  {
   "cell_type": "code",
   "execution_count": 7,
   "metadata": {},
   "outputs": [],
   "source": [
    "# Calcul de la fonction de plausabilite pour chaque evenement\n",
    "croyance.plausabilite()"
   ]
  },
  {
   "cell_type": "markdown",
   "metadata": {},
   "source": [
    "Nous allons maintenant procéder au calcul de dempster-shafer à l'aide de la fonction ***dempster_shafer()***. Cette fonction prend en argument les deux numeros des inspecteurs. SI par exemple on veut calculer la fonction de dempster-shafer pour l'inspecteur 3 et 1, il nous suffit de changer les numéro d'inspecteur juste en dessous."
   ]
  },
  {
   "cell_type": "code",
   "execution_count": 9,
   "metadata": {},
   "outputs": [],
   "source": [
    "nb_inspecteur_1 = 0\n",
    "nb_inspecteur_2 = 1"
   ]
  },
  {
   "cell_type": "code",
   "execution_count": 11,
   "metadata": {},
   "outputs": [
    {
     "data": {
      "text/plain": [
       "{'vide': [0.0],\n",
       " 'P': [0.5454545454545454],\n",
       " 'J': [0.0],\n",
       " 'M': [0.0],\n",
       " 'PJ': [0.2272727272727273],\n",
       " 'PM': [0.0],\n",
       " 'JM': [0.09090909090909093],\n",
       " 'PJM': [0.13636363636363635]}"
      ]
     },
     "execution_count": 11,
     "metadata": {},
     "output_type": "execute_result"
    }
   ],
   "source": [
    "# On calcul la fonction de dempster shafer\n",
    "dempster = croyance.dempster_shafer(nb_inspecteur_1, nb_inspecteur_2)\n",
    "dempster"
   ]
  }
 ],
 "metadata": {
  "interpreter": {
   "hash": "7d6993cb2f9ce9a59d5d7380609d9cb5192a9dedd2735a011418ad9e827eb538"
  },
  "kernelspec": {
   "display_name": "Python 3 (ipykernel)",
   "language": "python",
   "name": "python3"
  },
  "language_info": {
   "codemirror_mode": {
    "name": "ipython",
    "version": 3
   },
   "file_extension": ".py",
   "mimetype": "text/x-python",
   "name": "python",
   "nbconvert_exporter": "python",
   "pygments_lexer": "ipython3",
   "version": "3.9.7"
  }
 },
 "nbformat": 4,
 "nbformat_minor": 2
}
